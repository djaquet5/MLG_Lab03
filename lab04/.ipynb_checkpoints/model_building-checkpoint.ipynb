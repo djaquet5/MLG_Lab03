{
 "cells": [
  {
   "cell_type": "markdown",
   "metadata": {},
   "source": [
    "# Model building"
   ]
  },
  {
   "cell_type": "code",
   "execution_count": 4,
   "metadata": {},
   "outputs": [],
   "source": [
    "import numpy as np\n",
    "from matplotlib import pyplot as pl\n",
    "import os\n",
    "import scipy.io.wavfile as wav\n",
    "from python_speech_features import mfcc\n",
    "\n",
    "%matplotlib inline"
   ]
  },
  {
   "cell_type": "code",
   "execution_count": 5,
   "metadata": {},
   "outputs": [],
   "source": [
    "PATH = './vowels/'"
   ]
  },
  {
   "cell_type": "code",
   "execution_count": 6,
   "metadata": {},
   "outputs": [],
   "source": [
    "# src : https://stackoverflow.com/questions/3207219/how-do-i-list-all-files-of-a-directory\n",
    "# Collect all the men files\n",
    "men_files = [file for file in os.listdir(PATH) if (os.path.isfile(os.path.join(PATH, file)) and file.startswith('nam') and file.endswith('.wav'))]\n",
    "\n",
    "# Collect all the women files\n",
    "women_files = [file for file in os.listdir(PATH) if (os.path.isfile(os.path.join(PATH, file)) and file.startswith('naf') and file.endswith('.wav'))]"
   ]
  },
  {
   "cell_type": "code",
   "execution_count": 7,
   "metadata": {},
   "outputs": [],
   "source": [
    "# Read all the wav files\n",
    "def read_files(files):\n",
    "    readed = []\n",
    "    \n",
    "    for file in files:\n",
    "        readed.append(wav.read(os.path.join(PATH, file)))\n",
    "    \n",
    "    return readed\n",
    "\n",
    "# Generate the Mel-Frequency Cepstrum Coefficients\n",
    "def generate_mfcc(files):\n",
    "    mfcc_array = []\n",
    "    for (rate, X) in files:\n",
    "        mfcc_array.append(mfcc(X, samplerate=rate, nfft=1024))\n",
    "        \n",
    "    return mfcc_array\n",
    "\n",
    "men = read_files(men_files)\n",
    "women = read_files(women_files)\n",
    "    \n",
    "men_mfcc = generate_mfcc(men)\n",
    "women_mfcc = generate_mfcc(women)"
   ]
  },
  {
   "cell_type": "code",
   "execution_count": 8,
   "metadata": {},
   "outputs": [],
   "source": [
    "# Calculate the mean, median and standard deviation of the features for the given array\n",
    "def calculate_feature_mean(mfcc):\n",
    "    feature_mean = []\n",
    "    \n",
    "    for feature in mfcc:\n",
    "        mean = np.mean(feature,axis=0)\n",
    "        feature_mean.append(mean)\n",
    "    return feature_mean\n",
    "\n",
    "def calculate_feature_std(mfcc):\n",
    "    feature_std = []\n",
    "    \n",
    "    for feature in mfcc:\n",
    "        deviation = np.std(feature,axis=0)\n",
    "        feature_std.append(deviation)\n",
    "    return feature_std\n",
    "\n",
    "def calculate_feature_median(mfcc):\n",
    "    feature_median = []\n",
    "    \n",
    "    for feature in mfcc:\n",
    "        median = np.median(feature,axis=0)\n",
    "        feature_median.append(median)\n",
    "    return feature_median\n",
    "\n",
    "men_feature = calculate_feature_median(men_mfcc)\n",
    "women_feature = calculate_feature_median(women_mfcc)"
   ]
  },
  {
   "cell_type": "code",
   "execution_count": 9,
   "metadata": {},
   "outputs": [],
   "source": [
    "# Normalize data per columns between min and max\n",
    "def scale(array, min, max):\n",
    "    nom = (array-array.min(axis=0))*(max-min)\n",
    "    denom = array.max(axis=0) - array.min(axis=0)\n",
    "    denom[denom==0] = 1\n",
    "    return min + nom/denom \n",
    "\n",
    "# men_feature = np.asarray(men_feature)\n",
    "# men_feature = scale(men_feature,-1,1)\n",
    "# women_feature = np.asarray(women_feature)\n",
    "# women_feature = scale(women_feature,-1,1)\n",
    "\n",
    "# Append all the datas\n",
    "datas = []\n",
    "MAN = [0]\n",
    "WOMAN = [1]\n",
    "for feature in men_feature:\n",
    "    datas.append(np.append(feature, MAN))\n",
    "\n",
    "for feature in women_feature:\n",
    "    datas.append(np.append(feature, WOMAN))\n",
    "    \n",
    "datas = scale(np.asarray(datas), -1, 1)"
   ]
  },
  {
   "cell_type": "code",
   "execution_count": 10,
   "metadata": {
    "scrolled": true
   },
   "outputs": [
    {
     "data": {
      "image/png": "[encoded data removed]",
      "text/plain": [
       "<Figure size 1080x288 with 1 Axes>"
      ]
     },
     "metadata": {
      "needs_background": "light"
     },
     "output_type": "display_data"
    }
   ],
   "source": [
    "# Test\n",
    "pl.figure(figsize=(15,4))\n",
    "pl.subplot(1,2,1)\n",
    "pl.boxplot(datas)\n",
    "pl.title('Datas')\n",
    "pl.grid()"
   ]
  },
  {
   "cell_type": "code",
   "execution_count": 11,
   "metadata": {},
   "outputs": [],
   "source": [
    "import mlp_backprop_momentum as mlp\n",
    "\n",
    "LEARNING_RATE = 0.001\n",
    "MOMENTUM = 0.01\n",
    "EPOCHS = 100\n",
    "HIDDEN_NODES = 2\n",
    "\n",
    "input_data = datas[:,0:13]\n",
    "output_data = datas[:,13]\n",
    "\n",
    "# 13 features in input and 1 output to determine man or woman\n",
    "nn = mlp.MLP([13, HIDDEN_NODES, 1], 'tanh')\n",
    "\n",
    "MSE = nn.fit((input_data, output_data), learning_rate=LEARNING_RATE, momentum=MOMENTUM, epochs=EPOCHS)"
   ]
  },
  {
   "cell_type": "code",
   "execution_count": 57,
   "metadata": {},
   "outputs": [],
   "source": [
    "# Teacher functions\n",
    "def split_dataset(dataset, n_parts=5):\n",
    "    n_rows = dataset.shape[0]\n",
    "    index_all = np.arange(n_rows)\n",
    "    np.random.shuffle(index_all)\n",
    "    parts = []\n",
    "    current_start = 0\n",
    "    for p in np.arange(n_parts):\n",
    "        current_end = current_start + int(np.floor(n_rows / (n_parts-p)))\n",
    "        parts.append(dataset[index_all[current_start:current_end],:])\n",
    "        n_rows -= current_end - current_start\n",
    "        current_start = current_end\n",
    "    return parts\n",
    "\n",
    "def k_fold_cross_validation(mlp, dataset, K=5, learning_rate=0.01, momentum=0.7, epochs=100):\n",
    "    MSE_train_mean = 0.0\n",
    "    MSE_test_mean = 0.0\n",
    "\n",
    "    parts = split_dataset(dataset, K)\n",
    "    \n",
    "    # Create a confusion matrix initialized to 0\n",
    "    confusion_matrix = np.zeros((2, 2))\n",
    "    print(\"matrice avant =\\n\", confusion_matrix)\n",
    "#     predictions = [0,0]\n",
    "    \n",
    "    for k in np.arange(K):\n",
    "        mlp.init_weights()\n",
    "        \n",
    "        training_parts = set(np.arange(K))\n",
    "        training_parts.remove(k)\n",
    "#         print(\"after\", training_parts)\n",
    "        dataset_train = np.concatenate([parts[i] for i in list(training_parts)])\n",
    "        dataset_test = parts[k]\n",
    "\n",
    "        input_data = dataset_train[:,0:nn.n_inputs]\n",
    "        output_data = dataset_train[:,nn.n_inputs:(nn.n_inputs+nn.n_outputs)]\n",
    "        input_data_test = dataset_test[:,0:nn.n_inputs]\n",
    "        output_data_test = dataset_test[:,nn.n_inputs:(nn.n_inputs+nn.n_outputs)]\n",
    "        \n",
    "        MSE_train = mlp.fit((input_data, output_data),\n",
    "                            learning_rate=learning_rate, momentum=momentum, epochs=epochs)\n",
    "        \n",
    "        temp, _ = mlp.compute_MSE((input_data, output_data))\n",
    "        MSE_train_mean += temp\n",
    "        temp, _ = mlp.compute_MSE((input_data_test, output_data_test))\n",
    "        MSE_test_mean += temp\n",
    "        \n",
    "        # increment TP/FP/TN/FN\n",
    "        index = 0\n",
    "        for prediction in output_data_test:\n",
    "            if prediction == -1:\n",
    "                if datas[index][13] == -1:\n",
    "                    confusion_matrix[0][0] += 1\n",
    "                else:\n",
    "                    confusion_matrix[0][1] += 1\n",
    "            else:\n",
    "                if datas[index][13] == -1:\n",
    "                    confusion_matrix[1][0] += 1\n",
    "                else:\n",
    "                    confusion_matrix[1][1] += 1\n",
    "            index += 1\n",
    "\n",
    "    return (MSE_train_mean / K, MSE_test_mean / K, confusion_matrix)"
   ]
  },
  {
   "cell_type": "code",
   "execution_count": 58,
   "metadata": {},
   "outputs": [
    {
     "name": "stdout",
     "output_type": "stream",
     "text": [
      "matrice avant =\n",
      " [[0. 0.]\n",
      " [0. 0.]]\n",
      "matrice après =\n",
      " [[36.  0.]\n",
      " [36.  0.]]\n"
     ]
    }
   ],
   "source": [
    "K = 5\n",
    "\n",
    "train, test, matrix = k_fold_cross_validation(nn, datas, K, LEARNING_RATE, MOMENTUM, EPOCHS)\n",
    "print(\"matrice après =\\n\", matrix)"
   ]
  },
  {
   "cell_type": "code",
   "execution_count": null,
   "metadata": {},
   "outputs": [],
   "source": []
  },
  {
   "cell_type": "code",
   "execution_count": 29,
   "metadata": {},
   "outputs": [
    {
     "name": "stdout",
     "output_type": "stream",
     "text": [
      "President 1: Washington\n",
      "President 2: Adams\n",
      "President 3: Jefferson\n",
      "President 4: Madison\n",
      "President 5: Monroe\n",
      "President 6: Adams\n",
      "President 7: Jackson\n"
     ]
    }
   ],
   "source": [
    "presidents = [\"Washington\", \"Adams\", \"Jefferson\", \"Madison\", \"Monroe\", \"Adams\", \"Jackson\"]\n",
    "for num, name in enumerate(presidents, start=1):\n",
    "    print(\"President {}: {}\".format(num, name))"
   ]
  },
  {
   "cell_type": "code",
   "execution_count": null,
   "metadata": {},
   "outputs": [],
   "source": []
  }
 ],
 "metadata": {
  "kernelspec": {
   "display_name": "Python 3",
   "language": "python",
   "name": "python3"
  },
  "language_info": {
   "codemirror_mode": {
    "name": "ipython",
    "version": 3
   },
   "file_extension": ".py",
   "mimetype": "text/x-python",
   "name": "python",
   "nbconvert_exporter": "python",
   "pygments_lexer": "ipython3",
   "version": "3.7.7"
  }
 },
 "nbformat": 4,
 "nbformat_minor": 1
}
