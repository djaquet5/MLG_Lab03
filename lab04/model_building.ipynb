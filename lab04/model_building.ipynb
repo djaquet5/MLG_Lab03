{
 "cells": [
  {
   "cell_type": "markdown",
   "metadata": {},
   "source": [
    "# Practical Work 3\n",
    "\n",
    "Authors : Lionel Burgbacher & David Jaquet"
   ]
  },
  {
   "cell_type": "code",
   "execution_count": 17,
   "metadata": {},
   "outputs": [],
   "source": [
    "import numpy as np\n",
    "from matplotlib import pyplot as pl\n",
    "import os\n",
    "import scipy.io.wavfile as wav\n",
    "from python_speech_features import mfcc\n",
    "import mlp_backprop_momentum as mlp\n",
    "import k_fold_cross_validation as cv\n",
    "\n",
    "%matplotlib inline"
   ]
  },
  {
   "cell_type": "code",
   "execution_count": 18,
   "metadata": {},
   "outputs": [],
   "source": [
    "PATH = './vowels/'"
   ]
  },
  {
   "cell_type": "markdown",
   "metadata": {},
   "source": [
    "## Utils"
   ]
  },
  {
   "cell_type": "code",
   "execution_count": 19,
   "metadata": {},
   "outputs": [],
   "source": [
    "# Read all the wav files\n",
    "def read_files(files):\n",
    "    readed = []\n",
    "    \n",
    "    for file in files:\n",
    "        readed.append(wav.read(os.path.join(PATH, file)))\n",
    "    \n",
    "    return readed\n",
    "\n",
    "# Generate the Mel-Frequency Cepstrum Coefficients\n",
    "def generate_mfcc(files):\n",
    "    mfcc_array = []\n",
    "    for (rate, X) in files:\n",
    "        mfcc_array.append(mfcc(X, samplerate=rate, nfft=1024))\n",
    "        \n",
    "    return mfcc_array\n",
    "\n",
    "# Calculate the mean of the features for the given array\n",
    "def calculate_feature_mean(mfcc):\n",
    "    feature_mean = []\n",
    "    \n",
    "    for feature in mfcc:\n",
    "        mean = np.mean(feature,axis=0)\n",
    "        feature_mean.append(mean)\n",
    "    return feature_mean\n",
    "\n",
    "# Calculate the median of the features for the given array\n",
    "def calculate_feature_std(mfcc):\n",
    "    feature_std = []\n",
    "    \n",
    "    for feature in mfcc:\n",
    "        deviation = np.std(feature,axis=0)\n",
    "        feature_std.append(deviation)\n",
    "    return feature_std\n",
    "\n",
    "# Calculate the standard deviation of the features for the given array\n",
    "def calculate_feature_median(mfcc):\n",
    "    feature_median = []\n",
    "    \n",
    "    for feature in mfcc:\n",
    "        median = np.median(feature,axis=0)\n",
    "        feature_median.append(median)\n",
    "    return feature_median\n",
    "\n",
    "# Normalize data per columns between min and max\n",
    "def scale(array, min, max):\n",
    "    nom = (array-array.min(axis=0))*(max-min)\n",
    "    denom = array.max(axis=0) - array.min(axis=0)\n",
    "    denom[denom==0] = 1\n",
    "    return min + nom/denom"
   ]
  },
  {
   "cell_type": "markdown",
   "metadata": {},
   "source": [
    "## First experiment - Man vs Woman with natural voice"
   ]
  },
  {
   "cell_type": "code",
   "execution_count": 20,
   "metadata": {},
   "outputs": [],
   "source": [
    "# src : https://stackoverflow.com/questions/3207219/how-do-i-list-all-files-of-a-directory\n",
    "# Collect all the men files\n",
    "men_files = [file for file in os.listdir(PATH) if (os.path.isfile(os.path.join(PATH, file)) and file.startswith('nam') and file.endswith('.wav'))]\n",
    "\n",
    "# Collect all the women files\n",
    "women_files = [file for file in os.listdir(PATH) if (os.path.isfile(os.path.join(PATH, file)) and file.startswith('naf') and file.endswith('.wav'))]"
   ]
  },
  {
   "cell_type": "code",
   "execution_count": 21,
   "metadata": {},
   "outputs": [],
   "source": [
    "men = read_files(men_files)\n",
    "women = read_files(women_files)\n",
    "    \n",
    "men_mfcc = generate_mfcc(men)\n",
    "women_mfcc = generate_mfcc(women)\n",
    "\n",
    "men_feature = calculate_feature_median(men_mfcc)\n",
    "women_feature = calculate_feature_median(women_mfcc)"
   ]
  },
  {
   "cell_type": "code",
   "execution_count": 38,
   "metadata": {},
   "outputs": [],
   "source": [
    "# Append all the datas\n",
    "datas = []\n",
    "MAN = [-1]\n",
    "WOMAN = [1]\n",
    "for feature in men_feature:\n",
    "    datas.append(np.append(feature, MAN))\n",
    "\n",
    "for feature in women_feature:\n",
    "    datas.append(np.append(feature, WOMAN))\n",
    "    \n",
    "datas = scale(np.asarray(datas), -1, 1)"
   ]
  },
  {
   "cell_type": "code",
   "execution_count": 41,
   "metadata": {},
   "outputs": [],
   "source": [
    "LEARNING_RATE = 0.001\n",
    "MOMENTUM = 0.5\n",
    "EPOCHS = 500\n",
    "HIDDEN_NODES = 16\n",
    "\n",
    "input_data = datas[:,0:13]\n",
    "output_data = datas[:,13]\n",
    "\n",
    "# 13 features in input and 1 output to determine man or woman\n",
    "nn = mlp.MLP([13, HIDDEN_NODES, 1], 'tanh')\n",
    "\n",
    "MSE = nn.fit((input_data, output_data), learning_rate=LEARNING_RATE, momentum=MOMENTUM, epochs=EPOCHS)"
   ]
  },
  {
   "cell_type": "code",
   "execution_count": 44,
   "metadata": {},
   "outputs": [
    {
     "name": "stdout",
     "output_type": "stream",
     "text": [
      "[[33.  3.]\n",
      " [ 1. 35.]]\n"
     ]
    }
   ],
   "source": [
    "K = 8\n",
    "\n",
    "train, test, matrix = cv.k_fold_cross_validation(nn, datas, K, LEARNING_RATE, MOMENTUM, EPOCHS, 0.0)\n",
    "print(matrix)"
   ]
  }
 ],
 "metadata": {
  "kernelspec": {
   "display_name": "Python 3",
   "language": "python",
   "name": "python3"
  },
  "language_info": {
   "codemirror_mode": {
    "name": "ipython",
    "version": 3
   },
   "file_extension": ".py",
   "mimetype": "text/x-python",
   "name": "python",
   "nbconvert_exporter": "python",
   "pygments_lexer": "ipython3",
   "version": "3.7.7"
  }
 },
 "nbformat": 4,
 "nbformat_minor": 1
}
