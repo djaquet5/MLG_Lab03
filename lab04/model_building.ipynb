{
 "cells": [
  {
   "cell_type": "markdown",
   "metadata": {},
   "source": [
    "# Model building"
   ]
  },
  {
   "cell_type": "code",
   "execution_count": 9,
   "metadata": {},
   "outputs": [],
   "source": [
    "import numpy as np\n",
    "from matplotlib import pyplot as pl\n",
    "import os\n",
    "import scipy.io.wavfile as wav\n",
    "from python_speech_features import mfcc\n",
    "\n",
    "%matplotlib inline"
   ]
  },
  {
   "cell_type": "code",
   "execution_count": 10,
   "metadata": {},
   "outputs": [],
   "source": [
    "PATH = './vowels/'"
   ]
  },
  {
   "cell_type": "code",
   "execution_count": 11,
   "metadata": {},
   "outputs": [],
   "source": [
    "# src : https://stackoverflow.com/questions/3207219/how-do-i-list-all-files-of-a-directory\n",
    "# Collect all the men files\n",
    "men_files = [file for file in os.listdir(PATH) if (os.path.isfile(os.path.join(PATH, file)) and file.startswith('nam') and file.endswith('.wav'))]\n",
    "\n",
    "# Collect all the women files\n",
    "women_files = [file for file in os.listdir(PATH) if (os.path.isfile(os.path.join(PATH, file)) and file.startswith('naf') and file.endswith('.wav'))]"
   ]
  },
  {
   "cell_type": "code",
   "execution_count": 12,
   "metadata": {},
   "outputs": [],
   "source": [
    "# Read all the wav files\n",
    "def read_files(files):\n",
    "    readed = []\n",
    "    \n",
    "    for file in files:\n",
    "        readed.append(wav.read(os.path.join(PATH, file)))\n",
    "    \n",
    "    return readed\n",
    "\n",
    "# Generate the Mel-Frequency Cepstrum Coefficients\n",
    "def generate_mfcc(files):\n",
    "    mfcc_array = []\n",
    "    for (rate, X) in files:\n",
    "        mfcc_array.append(mfcc(X, samplerate=rate, nfft=1024))\n",
    "        \n",
    "    return mfcc_array\n",
    "\n",
    "men = read_files(men_files)\n",
    "women = read_files(women_files)\n",
    "    \n",
    "men_mfcc = generate_mfcc(men)\n",
    "women_mfcc = generate_mfcc(women)"
   ]
  },
  {
   "cell_type": "code",
   "execution_count": 13,
   "metadata": {},
   "outputs": [],
   "source": [
    "# Calculate the mean, median and standard deviation of the features for the given array\n",
    "def calculate_feature_mean(mfcc):\n",
    "    feature_mean = []\n",
    "    \n",
    "    for feature in mfcc:\n",
    "        mean = np.mean(feature,axis=0)\n",
    "        feature_mean.append(mean)\n",
    "    return feature_mean\n",
    "\n",
    "def calculate_feature_std(mfcc):\n",
    "    feature_std = []\n",
    "    \n",
    "    for feature in mfcc:\n",
    "        deviation = np.std(feature,axis=0)\n",
    "        feature_std.append(deviation)\n",
    "    return feature_std\n",
    "\n",
    "def calculate_feature_median(mfcc):\n",
    "    feature_median = []\n",
    "    \n",
    "    for feature in mfcc:\n",
    "        median = np.median(feature,axis=0)\n",
    "        feature_median.append(median)\n",
    "    return feature_median\n",
    "\n",
    "men_feature = calculate_feature_median(men_mfcc)\n",
    "women_feature = calculate_feature_median(women_mfcc)"
   ]
  },
  {
   "cell_type": "code",
   "execution_count": 14,
   "metadata": {},
   "outputs": [],
   "source": [
    "#Normalize data per columns between min and max\n",
    "def scale(array, min, max):\n",
    "    nom = (array-array.min(axis=0))*(max-min)\n",
    "    denom = array.max(axis=0) - array.min(axis=0)\n",
    "    denom[denom==0] = 1\n",
    "    return min + nom/denom \n",
    "\n",
    "men_feature = np.asarray(men_feature)\n",
    "men_feature = scale(men_feature,-1,1)\n",
    "women_feature = np.asarray(women_feature)\n",
    "women_feature = scale(women_feature,-1,1)"
   ]
  },
  {
   "cell_type": "code",
   "execution_count": 15,
   "metadata": {
    "scrolled": true
   },
   "outputs": [
    {
     "data": {
      "image/png": "[encoded data removed]",
      "text/plain": [
       "<Figure size 1080x288 with 2 Axes>"
      ]
     },
     "metadata": {
      "needs_background": "light"
     },
     "output_type": "display_data"
    }
   ],
   "source": [
    "\n",
    "# Test\n",
    "pl.figure(figsize=(15,4))\n",
    "pl.subplot(1,2,1)\n",
    "pl.boxplot(men_feature)\n",
    "pl.title('Men')\n",
    "pl.grid()\n",
    "pl.subplot(1,2,2)\n",
    "pl.boxplot(women_feature)\n",
    "pl.title('Women')\n",
    "pl.grid()"
   ]
  }
 ],
 "metadata": {
  "kernelspec": {
   "display_name": "Python 3",
   "language": "python",
   "name": "python3"
  },
  "language_info": {
   "codemirror_mode": {
    "name": "ipython",
    "version": 3
   },
   "file_extension": ".py",
   "mimetype": "text/x-python",
   "name": "python",
   "nbconvert_exporter": "python",
   "pygments_lexer": "ipython3",
   "version": "3.7.7"
  }
 },
 "nbformat": 4,
 "nbformat_minor": 1
}
